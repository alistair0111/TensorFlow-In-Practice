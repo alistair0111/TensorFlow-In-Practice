{
  "nbformat": 4,
  "nbformat_minor": 0,
  "metadata": {
    "accelerator": "GPU",
    "colab": {
      "name": "Copy of NLP Course - Week 3 Exercise Answer.ipynb",
      "provenance": [],
      "include_colab_link": true
    },
    "kernelspec": {
      "display_name": "Python 3",
      "name": "python3"
    }
  },
  "cells": [
    {
      "cell_type": "markdown",
      "metadata": {
        "id": "view-in-github",
        "colab_type": "text"
      },
      "source": [
        "<a href=\"https://colab.research.google.com/github/alistair0111/TensorFlow-In-Practice/blob/master/Natural%20Language%20Processing%20in%20TensorFlow/NLP_Course_Week_3_Exercise_Question.ipynb\" target=\"_parent\"><img src=\"https://colab.research.google.com/assets/colab-badge.svg\" alt=\"Open In Colab\"/></a>"
      ]
    },
    {
      "cell_type": "code",
      "metadata": {
        "id": "zX4Kg8DUTKWO",
        "colab_type": "code",
        "colab": {}
      },
      "source": [
        "#@title Licensed under the Apache License, Version 2.0 (the \"License\");\n",
        "# you may not use this file except in compliance with the License.\n",
        "# You may obtain a copy of the License at\n",
        "#\n",
        "# https://www.apache.org/licenses/LICENSE-2.0\n",
        "#\n",
        "# Unless required by applicable law or agreed to in writing, software\n",
        "# distributed under the License is distributed on an \"AS IS\" BASIS,\n",
        "# WITHOUT WARRANTIES OR CONDITIONS OF ANY KIND, either express or implied.\n",
        "# See the License for the specific language governing permissions and\n",
        "# limitations under the License."
      ],
      "execution_count": 0,
      "outputs": []
    },
    {
      "cell_type": "code",
      "metadata": {
        "colab_type": "code",
        "id": "hmA6EzkQJ5jt",
        "colab": {}
      },
      "source": [
        "import json\n",
        "import tensorflow as tf\n",
        "import csv\n",
        "import random\n",
        "import numpy as np\n",
        "\n",
        "from tensorflow.keras.preprocessing.text import Tokenizer\n",
        "from tensorflow.keras.preprocessing.sequence import pad_sequences\n",
        "from tensorflow.keras.utils import to_categorical\n",
        "from tensorflow.keras import regularizers\n",
        "\n",
        "\n",
        "embedding_dim = 100\n",
        "max_length = 16\n",
        "trunc_type='post'\n",
        "padding_type='post'\n",
        "oov_tok = \"<OOV>\"\n",
        "training_size=160000\n",
        "test_portion=.1\n",
        "\n",
        "corpus = []\n"
      ],
      "execution_count": 0,
      "outputs": []
    },
    {
      "cell_type": "code",
      "metadata": {
        "colab_type": "code",
        "id": "bM0l_dORKqE0",
        "outputId": "01643ec4-b213-478e-b98e-b51645f1c4b8",
        "colab": {
          "base_uri": "https://localhost:8080/",
          "height": 202
        }
      },
      "source": [
        "# Note that I cleaned the Stanford dataset to remove LATIN1 encoding to make it easier for Python CSV reader\n",
        "# You can do that yourself with:\n",
        "# iconv -f LATIN1 -t UTF8 training.1600000.processed.noemoticon.csv -o training_cleaned.csv\n",
        "# I then hosted it on my site to make it easier to use in this notebook\n",
        "\n",
        "!wget --no-check-certificate \\\n",
        "    https://storage.googleapis.com/laurencemoroney-blog.appspot.com/training_cleaned.csv \\\n",
        "    -O /tmp/training_cleaned.csv\n",
        "\n",
        "num_sentences = 0\n",
        "\n",
        "with open(\"/tmp/training_cleaned.csv\") as csvfile:\n",
        "    reader = csv.reader(csvfile, delimiter=',')\n",
        "    for row in reader:\n",
        "        list_item=[]\n",
        "        list_item.append(row[5])\n",
        "        this_label=row[0]\n",
        "        if this_label=='0':\n",
        "            list_item.append(0)\n",
        "        else:\n",
        "            list_item.append(1)\n",
        "        num_sentences = num_sentences + 1\n",
        "        corpus.append(list_item)\n"
      ],
      "execution_count": 12,
      "outputs": [
        {
          "output_type": "stream",
          "text": [
            "--2020-05-25 16:39:55--  https://storage.googleapis.com/laurencemoroney-blog.appspot.com/training_cleaned.csv\n",
            "Resolving storage.googleapis.com (storage.googleapis.com)... 108.177.126.128, 2a00:1450:4013:c04::80\n",
            "Connecting to storage.googleapis.com (storage.googleapis.com)|108.177.126.128|:443... connected.\n",
            "HTTP request sent, awaiting response... 200 OK\n",
            "Length: 238942690 (228M) [application/octet-stream]\n",
            "Saving to: ‘/tmp/training_cleaned.csv’\n",
            "\n",
            "/tmp/training_clean 100%[===================>] 227.87M   134MB/s    in 1.7s    \n",
            "\n",
            "2020-05-25 16:39:57 (134 MB/s) - ‘/tmp/training_cleaned.csv’ saved [238942690/238942690]\n",
            "\n"
          ],
          "name": "stdout"
        }
      ]
    },
    {
      "cell_type": "code",
      "metadata": {
        "colab_type": "code",
        "id": "3kxblBUjEUX-",
        "outputId": "4008c43b-1efa-4de5-c6f3-6d7076eb6122",
        "colab": {
          "base_uri": "https://localhost:8080/",
          "height": 67
        }
      },
      "source": [
        "print(num_sentences)\n",
        "print(len(corpus))\n",
        "print(corpus[1])\n",
        "\n",
        "# Expected Output:\n",
        "# 1600000\n",
        "# 1600000\n",
        "# [\"is upset that he can't update his Facebook by texting it... and might cry as a result  School today also. Blah!\", 0]"
      ],
      "execution_count": 13,
      "outputs": [
        {
          "output_type": "stream",
          "text": [
            "1600000\n",
            "1600000\n",
            "[\"is upset that he can't update his Facebook by texting it... and might cry as a result  School today also. Blah!\", 0]\n"
          ],
          "name": "stdout"
        }
      ]
    },
    {
      "cell_type": "code",
      "metadata": {
        "colab_type": "code",
        "id": "ohOGz24lsNAD",
        "colab": {}
      },
      "source": [
        "sentences=[]\n",
        "labels=[]\n",
        "random.shuffle(corpus)\n",
        "for x in range(training_size):\n",
        "    sentences.append(corpus[x][0])\n",
        "    labels.append(corpus[x][1])\n",
        "\n",
        "\n",
        "tokenizer = Tokenizer()\n",
        "tokenizer.fit_on_texts(sentences)\n",
        "\n",
        "word_index = tokenizer.word_index\n",
        "vocab_size=len(word_index)\n",
        "\n",
        "sequences = tokenizer.texts_to_sequences(sentences)\n",
        "padded = pad_sequences(sequences, maxlen=max_length, padding=padding_type, truncating=trunc_type)\n",
        "\n",
        "split = int(test_portion * training_size)\n",
        "\n",
        "test_sequences = padded[0:split]\n",
        "training_sequences = padded[split:training_size]\n",
        "test_labels = np.array(labels[0:split])\n",
        "training_labels = np.array(labels[split:training_size])"
      ],
      "execution_count": 0,
      "outputs": []
    },
    {
      "cell_type": "code",
      "metadata": {
        "colab_type": "code",
        "id": "gIrtRem1En3N",
        "outputId": "45430913-92ce-4c27-9ec9-49d094550be3",
        "colab": {
          "base_uri": "https://localhost:8080/",
          "height": 50
        }
      },
      "source": [
        "print(vocab_size)\n",
        "print(word_index['i'])\n",
        "# Expected Output\n",
        "# 138858\n",
        "# 1"
      ],
      "execution_count": 16,
      "outputs": [
        {
          "output_type": "stream",
          "text": [
            "138453\n",
            "1\n"
          ],
          "name": "stdout"
        }
      ]
    },
    {
      "cell_type": "code",
      "metadata": {
        "colab_type": "code",
        "id": "C1zdgJkusRh0",
        "outputId": "036170c4-8862-44df-e07b-eb8055ace55e",
        "colab": {
          "base_uri": "https://localhost:8080/",
          "height": 202
        }
      },
      "source": [
        "# Note this is the 100 dimension version of GloVe from Stanford\n",
        "# I unzipped and hosted it on my site to make this notebook easier\n",
        "!wget --no-check-certificate \\\n",
        "    https://storage.googleapis.com/laurencemoroney-blog.appspot.com/glove.6B.100d.txt \\\n",
        "    -O /tmp/glove.6B.100d.txt\n",
        "embeddings_index = {};\n",
        "with open('/tmp/glove.6B.100d.txt') as f:\n",
        "    for line in f:\n",
        "        values = line.split();\n",
        "        word = values[0];\n",
        "        coefs = np.asarray(values[1:], dtype='float32');\n",
        "        embeddings_index[word] = coefs;\n",
        "\n",
        "embeddings_matrix = np.zeros((vocab_size+1, embedding_dim));\n",
        "for word, i in word_index.items():\n",
        "    embedding_vector = embeddings_index.get(word);\n",
        "    if embedding_vector is not None:\n",
        "        embeddings_matrix[i] = embedding_vector;"
      ],
      "execution_count": 17,
      "outputs": [
        {
          "output_type": "stream",
          "text": [
            "--2020-05-25 16:40:24--  https://storage.googleapis.com/laurencemoroney-blog.appspot.com/glove.6B.100d.txt\n",
            "Resolving storage.googleapis.com (storage.googleapis.com)... 173.194.79.128, 2a00:1450:4013:c01::80\n",
            "Connecting to storage.googleapis.com (storage.googleapis.com)|173.194.79.128|:443... connected.\n",
            "HTTP request sent, awaiting response... 200 OK\n",
            "Length: 347116733 (331M) [text/plain]\n",
            "Saving to: ‘/tmp/glove.6B.100d.txt’\n",
            "\n",
            "/tmp/glove.6B.100d. 100%[===================>] 331.04M  71.3MB/s    in 4.6s    \n",
            "\n",
            "2020-05-25 16:40:29 (71.3 MB/s) - ‘/tmp/glove.6B.100d.txt’ saved [347116733/347116733]\n",
            "\n"
          ],
          "name": "stdout"
        }
      ]
    },
    {
      "cell_type": "code",
      "metadata": {
        "colab_type": "code",
        "id": "71NLk_lpFLNt",
        "outputId": "a190fcaa-0e62-4491-cb6a-5ad0bfdca54a",
        "colab": {
          "base_uri": "https://localhost:8080/",
          "height": 34
        }
      },
      "source": [
        "print(len(embeddings_matrix))\n",
        "# Expected Output\n",
        "# 138859"
      ],
      "execution_count": 18,
      "outputs": [
        {
          "output_type": "stream",
          "text": [
            "138454\n"
          ],
          "name": "stdout"
        }
      ]
    },
    {
      "cell_type": "code",
      "metadata": {
        "colab_type": "code",
        "id": "iKKvbuEBOGFz",
        "colab": {
          "base_uri": "https://localhost:8080/",
          "height": 1000
        },
        "outputId": "95414f71-727c-4026-f320-8b18bbea2088"
      },
      "source": [
        "model = tf.keras.Sequential([\n",
        "    tf.keras.layers.Embedding(vocab_size+1, embedding_dim, input_length=max_length, weights=[embeddings_matrix], trainable=False),\n",
        "    tf.keras.layers.Dropout(0.2),\n",
        "    tf.keras.layers.Conv1D(64, 5, activation='relu'),\n",
        "    tf.keras.layers.MaxPooling1D(pool_size=4),\n",
        "    tf.keras.layers.LSTM(64),\n",
        "    tf.keras.layers.Dense(1, activation='sigmoid')\n",
        "])\n",
        "model.compile(loss='binary_crossentropy',optimizer='adam',metrics=['accuracy'])\n",
        "model.summary()\n",
        "\n",
        "num_epochs = 50\n",
        "history = model.fit(training_sequences, training_labels, epochs=num_epochs, validation_data=(test_sequences, test_labels), verbose=2)\n",
        "\n",
        "print(\"Training Complete\")\n"
      ],
      "execution_count": 19,
      "outputs": [
        {
          "output_type": "stream",
          "text": [
            "Model: \"sequential_1\"\n",
            "_________________________________________________________________\n",
            "Layer (type)                 Output Shape              Param #   \n",
            "=================================================================\n",
            "embedding_1 (Embedding)      (None, 16, 100)           13845400  \n",
            "_________________________________________________________________\n",
            "dropout_1 (Dropout)          (None, 16, 100)           0         \n",
            "_________________________________________________________________\n",
            "conv1d_1 (Conv1D)            (None, 12, 64)            32064     \n",
            "_________________________________________________________________\n",
            "max_pooling1d_1 (MaxPooling1 (None, 3, 64)             0         \n",
            "_________________________________________________________________\n",
            "lstm_1 (LSTM)                (None, 64)                33024     \n",
            "_________________________________________________________________\n",
            "dense_1 (Dense)              (None, 1)                 65        \n",
            "=================================================================\n",
            "Total params: 13,910,553\n",
            "Trainable params: 65,153\n",
            "Non-trainable params: 13,845,400\n",
            "_________________________________________________________________\n",
            "Epoch 1/50\n",
            "4500/4500 - 15s - loss: 0.5678 - accuracy: 0.6978 - val_loss: 0.5252 - val_accuracy: 0.7354\n",
            "Epoch 2/50\n",
            "4500/4500 - 15s - loss: 0.5285 - accuracy: 0.7314 - val_loss: 0.5112 - val_accuracy: 0.7451\n",
            "Epoch 3/50\n",
            "4500/4500 - 15s - loss: 0.5107 - accuracy: 0.7429 - val_loss: 0.5104 - val_accuracy: 0.7476\n",
            "Epoch 4/50\n",
            "4500/4500 - 16s - loss: 0.4993 - accuracy: 0.7515 - val_loss: 0.5053 - val_accuracy: 0.7503\n",
            "Epoch 5/50\n",
            "4500/4500 - 15s - loss: 0.4914 - accuracy: 0.7576 - val_loss: 0.5005 - val_accuracy: 0.7539\n",
            "Epoch 6/50\n",
            "4500/4500 - 15s - loss: 0.4834 - accuracy: 0.7625 - val_loss: 0.4984 - val_accuracy: 0.7521\n",
            "Epoch 7/50\n",
            "4500/4500 - 15s - loss: 0.4772 - accuracy: 0.7672 - val_loss: 0.4986 - val_accuracy: 0.7551\n",
            "Epoch 8/50\n",
            "4500/4500 - 15s - loss: 0.4721 - accuracy: 0.7694 - val_loss: 0.4986 - val_accuracy: 0.7549\n",
            "Epoch 9/50\n",
            "4500/4500 - 15s - loss: 0.4692 - accuracy: 0.7718 - val_loss: 0.5023 - val_accuracy: 0.7540\n",
            "Epoch 10/50\n",
            "4500/4500 - 15s - loss: 0.4656 - accuracy: 0.7738 - val_loss: 0.4987 - val_accuracy: 0.7531\n",
            "Epoch 11/50\n",
            "4500/4500 - 15s - loss: 0.4614 - accuracy: 0.7761 - val_loss: 0.5008 - val_accuracy: 0.7549\n",
            "Epoch 12/50\n",
            "4500/4500 - 15s - loss: 0.4581 - accuracy: 0.7784 - val_loss: 0.5011 - val_accuracy: 0.7553\n",
            "Epoch 13/50\n",
            "4500/4500 - 15s - loss: 0.4543 - accuracy: 0.7803 - val_loss: 0.5039 - val_accuracy: 0.7548\n",
            "Epoch 14/50\n",
            "4500/4500 - 15s - loss: 0.4526 - accuracy: 0.7811 - val_loss: 0.5054 - val_accuracy: 0.7575\n",
            "Epoch 15/50\n",
            "4500/4500 - 15s - loss: 0.4499 - accuracy: 0.7841 - val_loss: 0.5102 - val_accuracy: 0.7492\n",
            "Epoch 16/50\n",
            "4500/4500 - 15s - loss: 0.4485 - accuracy: 0.7841 - val_loss: 0.5013 - val_accuracy: 0.7577\n",
            "Epoch 17/50\n",
            "4500/4500 - 15s - loss: 0.4470 - accuracy: 0.7849 - val_loss: 0.5060 - val_accuracy: 0.7547\n",
            "Epoch 18/50\n",
            "4500/4500 - 15s - loss: 0.4456 - accuracy: 0.7851 - val_loss: 0.5059 - val_accuracy: 0.7539\n",
            "Epoch 19/50\n",
            "4500/4500 - 15s - loss: 0.4434 - accuracy: 0.7871 - val_loss: 0.5104 - val_accuracy: 0.7534\n",
            "Epoch 20/50\n",
            "4500/4500 - 15s - loss: 0.4432 - accuracy: 0.7873 - val_loss: 0.5095 - val_accuracy: 0.7548\n",
            "Epoch 21/50\n",
            "4500/4500 - 15s - loss: 0.4404 - accuracy: 0.7896 - val_loss: 0.5091 - val_accuracy: 0.7518\n",
            "Epoch 22/50\n",
            "4500/4500 - 15s - loss: 0.4395 - accuracy: 0.7894 - val_loss: 0.5185 - val_accuracy: 0.7503\n",
            "Epoch 23/50\n",
            "4500/4500 - 15s - loss: 0.4388 - accuracy: 0.7905 - val_loss: 0.5138 - val_accuracy: 0.7484\n",
            "Epoch 24/50\n",
            "4500/4500 - 16s - loss: 0.4371 - accuracy: 0.7913 - val_loss: 0.5121 - val_accuracy: 0.7513\n",
            "Epoch 25/50\n",
            "4500/4500 - 16s - loss: 0.4376 - accuracy: 0.7900 - val_loss: 0.5114 - val_accuracy: 0.7519\n",
            "Epoch 26/50\n",
            "4500/4500 - 15s - loss: 0.4354 - accuracy: 0.7915 - val_loss: 0.5142 - val_accuracy: 0.7506\n",
            "Epoch 27/50\n",
            "4500/4500 - 15s - loss: 0.4350 - accuracy: 0.7915 - val_loss: 0.5104 - val_accuracy: 0.7534\n",
            "Epoch 28/50\n",
            "4500/4500 - 15s - loss: 0.4341 - accuracy: 0.7927 - val_loss: 0.5182 - val_accuracy: 0.7540\n",
            "Epoch 29/50\n",
            "4500/4500 - 15s - loss: 0.4339 - accuracy: 0.7930 - val_loss: 0.5111 - val_accuracy: 0.7492\n",
            "Epoch 30/50\n",
            "4500/4500 - 15s - loss: 0.4355 - accuracy: 0.7923 - val_loss: 0.5112 - val_accuracy: 0.7530\n",
            "Epoch 31/50\n",
            "4500/4500 - 15s - loss: 0.4320 - accuracy: 0.7943 - val_loss: 0.5194 - val_accuracy: 0.7452\n",
            "Epoch 32/50\n",
            "4500/4500 - 15s - loss: 0.4330 - accuracy: 0.7939 - val_loss: 0.5182 - val_accuracy: 0.7483\n",
            "Epoch 33/50\n",
            "4500/4500 - 15s - loss: 0.4309 - accuracy: 0.7954 - val_loss: 0.5167 - val_accuracy: 0.7492\n",
            "Epoch 34/50\n",
            "4500/4500 - 15s - loss: 0.4312 - accuracy: 0.7944 - val_loss: 0.5157 - val_accuracy: 0.7517\n",
            "Epoch 35/50\n",
            "4500/4500 - 15s - loss: 0.4311 - accuracy: 0.7942 - val_loss: 0.5128 - val_accuracy: 0.7486\n",
            "Epoch 36/50\n",
            "4500/4500 - 15s - loss: 0.4307 - accuracy: 0.7939 - val_loss: 0.5227 - val_accuracy: 0.7492\n",
            "Epoch 37/50\n",
            "4500/4500 - 15s - loss: 0.4311 - accuracy: 0.7952 - val_loss: 0.5172 - val_accuracy: 0.7499\n",
            "Epoch 38/50\n",
            "4500/4500 - 15s - loss: 0.4304 - accuracy: 0.7954 - val_loss: 0.5210 - val_accuracy: 0.7493\n",
            "Epoch 39/50\n",
            "4500/4500 - 15s - loss: 0.4292 - accuracy: 0.7960 - val_loss: 0.5149 - val_accuracy: 0.7494\n",
            "Epoch 40/50\n",
            "4500/4500 - 15s - loss: 0.4290 - accuracy: 0.7968 - val_loss: 0.5186 - val_accuracy: 0.7492\n",
            "Epoch 41/50\n",
            "4500/4500 - 15s - loss: 0.4274 - accuracy: 0.7976 - val_loss: 0.5188 - val_accuracy: 0.7492\n",
            "Epoch 42/50\n",
            "4500/4500 - 15s - loss: 0.4286 - accuracy: 0.7964 - val_loss: 0.5195 - val_accuracy: 0.7498\n",
            "Epoch 43/50\n",
            "4500/4500 - 15s - loss: 0.4276 - accuracy: 0.7968 - val_loss: 0.5173 - val_accuracy: 0.7476\n",
            "Epoch 44/50\n",
            "4500/4500 - 15s - loss: 0.4285 - accuracy: 0.7970 - val_loss: 0.5220 - val_accuracy: 0.7506\n",
            "Epoch 45/50\n",
            "4500/4500 - 15s - loss: 0.4260 - accuracy: 0.7986 - val_loss: 0.5195 - val_accuracy: 0.7511\n",
            "Epoch 46/50\n",
            "4500/4500 - 15s - loss: 0.4266 - accuracy: 0.7974 - val_loss: 0.5187 - val_accuracy: 0.7507\n",
            "Epoch 47/50\n",
            "4500/4500 - 15s - loss: 0.4272 - accuracy: 0.7973 - val_loss: 0.5192 - val_accuracy: 0.7497\n",
            "Epoch 48/50\n",
            "4500/4500 - 15s - loss: 0.4267 - accuracy: 0.7980 - val_loss: 0.5203 - val_accuracy: 0.7543\n",
            "Epoch 49/50\n",
            "4500/4500 - 15s - loss: 0.4246 - accuracy: 0.7983 - val_loss: 0.5223 - val_accuracy: 0.7458\n",
            "Epoch 50/50\n",
            "4500/4500 - 15s - loss: 0.4242 - accuracy: 0.7975 - val_loss: 0.5213 - val_accuracy: 0.7480\n",
            "Training Complete\n"
          ],
          "name": "stdout"
        }
      ]
    },
    {
      "cell_type": "code",
      "metadata": {
        "colab_type": "code",
        "id": "qxju4ItJKO8F",
        "colab": {
          "base_uri": "https://localhost:8080/",
          "height": 229
        },
        "outputId": "7a5afa04-54e2-4d88-dfe4-6ade8044b7dd"
      },
      "source": [
        "import matplotlib.image  as mpimg\n",
        "import matplotlib.pyplot as plt\n",
        "\n",
        "#-----------------------------------------------------------\n",
        "# Retrieve a list of list results on training and test data\n",
        "# sets for each training epoch\n",
        "#-----------------------------------------------------------\n",
        "acc=history.history['accuracy']\n",
        "val_acc=history.history['val_accuracy']\n",
        "loss=history.history['loss']\n",
        "val_loss=history.history['val_loss']\n",
        "\n",
        "epochs=range(len(acc)) # Get number of epochs\n",
        "\n",
        "#------------------------------------------------\n",
        "# Plot training and validation accuracy per epoch\n",
        "#------------------------------------------------\n",
        "plt.plot(epochs, acc, 'r')\n",
        "plt.plot(epochs, val_acc, 'b')\n",
        "plt.title('Training and validation accuracy')\n",
        "plt.xlabel(\"Epochs\")\n",
        "plt.ylabel(\"Accuracy\")\n",
        "plt.legend([\"Accuracy\", \"Validation Accuracy\"])\n",
        "\n",
        "plt.figure()\n",
        "\n",
        "#------------------------------------------------\n",
        "# Plot training and validation loss per epoch\n",
        "#------------------------------------------------\n",
        "plt.plot(epochs, loss, 'r')\n",
        "plt.plot(epochs, val_loss, 'b')\n",
        "plt.title('Training and validation loss')\n",
        "plt.xlabel(\"Epochs\")\n",
        "plt.ylabel(\"Loss\")\n",
        "plt.legend([\"Loss\", \"Validation Loss\"])\n",
        "\n",
        "plt.figure()\n",
        "\n",
        "\n",
        "# Expected Output\n",
        "# A chart where the validation loss does not increase sharply!"
      ],
      "execution_count": 10,
      "outputs": [
        {
          "output_type": "error",
          "ename": "NameError",
          "evalue": "ignored",
          "traceback": [
            "\u001b[0;31m---------------------------------------------------------------------------\u001b[0m",
            "\u001b[0;31mNameError\u001b[0m                                 Traceback (most recent call last)",
            "\u001b[0;32m<ipython-input-10-db7554fc2d0e>\u001b[0m in \u001b[0;36m<module>\u001b[0;34m()\u001b[0m\n\u001b[1;32m      6\u001b[0m \u001b[0;31m# sets for each training epoch\u001b[0m\u001b[0;34m\u001b[0m\u001b[0;34m\u001b[0m\u001b[0;34m\u001b[0m\u001b[0m\n\u001b[1;32m      7\u001b[0m \u001b[0;31m#-----------------------------------------------------------\u001b[0m\u001b[0;34m\u001b[0m\u001b[0;34m\u001b[0m\u001b[0;34m\u001b[0m\u001b[0m\n\u001b[0;32m----> 8\u001b[0;31m \u001b[0macc\u001b[0m\u001b[0;34m=\u001b[0m\u001b[0mhistory\u001b[0m\u001b[0;34m.\u001b[0m\u001b[0mhistory\u001b[0m\u001b[0;34m[\u001b[0m\u001b[0;34m'accuracy'\u001b[0m\u001b[0;34m]\u001b[0m\u001b[0;34m\u001b[0m\u001b[0;34m\u001b[0m\u001b[0m\n\u001b[0m\u001b[1;32m      9\u001b[0m \u001b[0mval_acc\u001b[0m\u001b[0;34m=\u001b[0m\u001b[0mhistory\u001b[0m\u001b[0;34m.\u001b[0m\u001b[0mhistory\u001b[0m\u001b[0;34m[\u001b[0m\u001b[0;34m'val_accuracy'\u001b[0m\u001b[0;34m]\u001b[0m\u001b[0;34m\u001b[0m\u001b[0;34m\u001b[0m\u001b[0m\n\u001b[1;32m     10\u001b[0m \u001b[0mloss\u001b[0m\u001b[0;34m=\u001b[0m\u001b[0mhistory\u001b[0m\u001b[0;34m.\u001b[0m\u001b[0mhistory\u001b[0m\u001b[0;34m[\u001b[0m\u001b[0;34m'loss'\u001b[0m\u001b[0;34m]\u001b[0m\u001b[0;34m\u001b[0m\u001b[0;34m\u001b[0m\u001b[0m\n",
            "\u001b[0;31mNameError\u001b[0m: name 'history' is not defined"
          ]
        }
      ]
    },
    {
      "cell_type": "code",
      "metadata": {
        "id": "cgMWPr_WsqhO",
        "colab_type": "code",
        "colab": {}
      },
      "source": [
        ""
      ],
      "execution_count": 0,
      "outputs": []
    }
  ]
}