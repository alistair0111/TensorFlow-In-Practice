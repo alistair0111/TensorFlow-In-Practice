{
  "nbformat": 4,
  "nbformat_minor": 0,
  "metadata": {
    "accelerator": "GPU",
    "colab": {
      "name": "Copy of NLP_Week4_Exercise_Shakespeare_Question.ipynb",
      "provenance": [],
      "include_colab_link": true
    },
    "kernelspec": {
      "display_name": "Python 3",
      "name": "python3"
    }
  },
  "cells": [
    {
      "cell_type": "markdown",
      "metadata": {
        "id": "view-in-github",
        "colab_type": "text"
      },
      "source": [
        "<a href=\"https://colab.research.google.com/github/alistair0111/TensorFlow-In-Practice/blob/master/Natural%20Language%20Processing%20in%20TensorFlow/NLP_Week4_Exercise_Shakespeare_Question.ipynb\" target=\"_parent\"><img src=\"https://colab.research.google.com/assets/colab-badge.svg\" alt=\"Open In Colab\"/></a>"
      ]
    },
    {
      "cell_type": "code",
      "metadata": {
        "id": "zX4Kg8DUTKWO",
        "colab_type": "code",
        "colab": {}
      },
      "source": [
        "#@title Licensed under the Apache License, Version 2.0 (the \"License\");\n",
        "# you may not use this file except in compliance with the License.\n",
        "# You may obtain a copy of the License at\n",
        "#\n",
        "# https://www.apache.org/licenses/LICENSE-2.0\n",
        "#\n",
        "# Unless required by applicable law or agreed to in writing, software\n",
        "# distributed under the License is distributed on an \"AS IS\" BASIS,\n",
        "# WITHOUT WARRANTIES OR CONDITIONS OF ANY KIND, either express or implied.\n",
        "# See the License for the specific language governing permissions and\n",
        "# limitations under the License."
      ],
      "execution_count": 0,
      "outputs": []
    },
    {
      "cell_type": "code",
      "metadata": {
        "colab_type": "code",
        "id": "BOwsuGQQY9OL",
        "colab": {}
      },
      "source": [
        "from tensorflow.keras.preprocessing.sequence import pad_sequences\n",
        "from tensorflow.keras.layers import Embedding, LSTM, Dense, Dropout, Bidirectional\n",
        "from tensorflow.keras.preprocessing.text import Tokenizer\n",
        "from tensorflow.keras.models import Sequential\n",
        "from tensorflow.keras.optimizers import Adam\n",
        "from tensorflow.keras import regularizers\n",
        "# Figure out how to import regularizers\n",
        "###\n",
        "import tensorflow.keras.utils as ku \n",
        "import numpy as np "
      ],
      "execution_count": 0,
      "outputs": []
    },
    {
      "cell_type": "code",
      "metadata": {
        "colab_type": "code",
        "id": "PRnDnCW-Z7qv",
        "colab": {
          "base_uri": "https://localhost:8080/",
          "height": 202
        },
        "outputId": "4ec79a65-3f19-4727-e77d-8ec100939c47"
      },
      "source": [
        "tokenizer = Tokenizer()\n",
        "!wget --no-check-certificate \\\n",
        "    https://storage.googleapis.com/laurencemoroney-blog.appspot.com/sonnets.txt \\\n",
        "    -O /tmp/sonnets.txt\n",
        "data = open('/tmp/sonnets.txt').read()\n",
        "\n",
        "corpus = data.lower().split(\"\\n\")\n",
        "\n",
        "\n",
        "tokenizer.fit_on_texts(corpus)\n",
        "total_words = len(tokenizer.word_index) + 1\n",
        "\n",
        "# create input sequences using list of tokens\n",
        "input_sequences = []\n",
        "for line in corpus:\n",
        "\ttoken_list = tokenizer.texts_to_sequences([line])[0]\n",
        "\tfor i in range(1, len(token_list)):\n",
        "\t\tn_gram_sequence = token_list[:i+1]\n",
        "\t\tinput_sequences.append(n_gram_sequence)\n",
        "\n",
        "\n",
        "# pad sequences \n",
        "max_sequence_len = max([len(x) for x in input_sequences])\n",
        "input_sequences = np.array(pad_sequences(input_sequences, maxlen=max_sequence_len, padding='pre'))\n",
        "\n",
        "# create predictors and label\n",
        "predictors, label = input_sequences[:,:-1],input_sequences[:,-1]\n",
        "\n",
        "label = ku.to_categorical(label, num_classes=total_words)"
      ],
      "execution_count": 4,
      "outputs": [
        {
          "output_type": "stream",
          "text": [
            "--2020-05-26 04:43:42--  https://storage.googleapis.com/laurencemoroney-blog.appspot.com/sonnets.txt\n",
            "Resolving storage.googleapis.com (storage.googleapis.com)... 64.233.184.128, 2a00:1450:400c:c06::80\n",
            "Connecting to storage.googleapis.com (storage.googleapis.com)|64.233.184.128|:443... connected.\n",
            "HTTP request sent, awaiting response... 200 OK\n",
            "Length: 93578 (91K) [text/plain]\n",
            "Saving to: ‘/tmp/sonnets.txt’\n",
            "\n",
            "\r/tmp/sonnets.txt      0%[                    ]       0  --.-KB/s               \r/tmp/sonnets.txt    100%[===================>]  91.38K  --.-KB/s    in 0.001s  \n",
            "\n",
            "2020-05-26 04:43:42 (88.5 MB/s) - ‘/tmp/sonnets.txt’ saved [93578/93578]\n",
            "\n"
          ],
          "name": "stdout"
        }
      ]
    },
    {
      "cell_type": "code",
      "metadata": {
        "colab_type": "code",
        "id": "w9vH8Y59ajYL",
        "colab": {
          "base_uri": "https://localhost:8080/",
          "height": 370
        },
        "outputId": "2c377f22-92fd-4943-bc89-74d1e3b7dbad"
      },
      "source": [
        "model = Sequential()\n",
        "model.add(Embedding(total_words, 128, input_length=max_sequence_len-1))\n",
        "model.add(Bidirectional(LSTM(150,return_sequences=True)))\n",
        "model.add(Dropout(0.2))\n",
        "model.add(Bidirectional(LSTM(100)))\n",
        "model.add(Dense(total_words/2, activation='relu', kernel_regularizer=regularizers.l2(0.01)))\n",
        "model.add(Dense(total_words, activation='softmax'))\n",
        "# Pick an optimizer\n",
        "model.compile(loss='categorical_crossentropy', optimizer='adam', metrics=['accuracy'])\n",
        "print(model.summary())\n"
      ],
      "execution_count": 6,
      "outputs": [
        {
          "output_type": "stream",
          "text": [
            "Model: \"sequential_1\"\n",
            "_________________________________________________________________\n",
            "Layer (type)                 Output Shape              Param #   \n",
            "=================================================================\n",
            "embedding_1 (Embedding)      (None, 10, 128)           411008    \n",
            "_________________________________________________________________\n",
            "bidirectional_2 (Bidirection (None, 10, 300)           334800    \n",
            "_________________________________________________________________\n",
            "dropout_1 (Dropout)          (None, 10, 300)           0         \n",
            "_________________________________________________________________\n",
            "bidirectional_3 (Bidirection (None, 200)               320800    \n",
            "_________________________________________________________________\n",
            "dense_2 (Dense)              (None, 1605)              322605    \n",
            "_________________________________________________________________\n",
            "dense_3 (Dense)              (None, 3211)              5156866   \n",
            "=================================================================\n",
            "Total params: 6,546,079\n",
            "Trainable params: 6,546,079\n",
            "Non-trainable params: 0\n",
            "_________________________________________________________________\n",
            "None\n"
          ],
          "name": "stdout"
        }
      ]
    },
    {
      "cell_type": "code",
      "metadata": {
        "colab_type": "code",
        "id": "AIg2f1HBxqof",
        "colab": {
          "base_uri": "https://localhost:8080/",
          "height": 1000
        },
        "outputId": "d6673cf7-edff-4679-cbdd-dfce2092c7ca"
      },
      "source": [
        " history = model.fit(predictors, label, epochs=100, verbose=1)"
      ],
      "execution_count": 7,
      "outputs": [
        {
          "output_type": "stream",
          "text": [
            "Epoch 1/100\n",
            "484/484 [==============================] - 8s 16ms/step - loss: 6.9632 - accuracy: 0.0220\n",
            "Epoch 2/100\n",
            "484/484 [==============================] - 8s 16ms/step - loss: 6.5046 - accuracy: 0.0232\n",
            "Epoch 3/100\n",
            "484/484 [==============================] - 8s 16ms/step - loss: 6.3906 - accuracy: 0.0252\n",
            "Epoch 4/100\n",
            "484/484 [==============================] - 7s 15ms/step - loss: 6.2710 - accuracy: 0.0317\n",
            "Epoch 5/100\n",
            "484/484 [==============================] - 7s 15ms/step - loss: 6.1672 - accuracy: 0.0387\n",
            "Epoch 6/100\n",
            "484/484 [==============================] - 7s 15ms/step - loss: 6.0736 - accuracy: 0.0407\n",
            "Epoch 7/100\n",
            "484/484 [==============================] - 7s 15ms/step - loss: 5.9827 - accuracy: 0.0423\n",
            "Epoch 8/100\n",
            "484/484 [==============================] - 7s 15ms/step - loss: 5.8828 - accuracy: 0.0479\n",
            "Epoch 9/100\n",
            "484/484 [==============================] - 7s 15ms/step - loss: 5.7760 - accuracy: 0.0535\n",
            "Epoch 10/100\n",
            "484/484 [==============================] - 7s 15ms/step - loss: 5.6606 - accuracy: 0.0645\n",
            "Epoch 11/100\n",
            "484/484 [==============================] - 7s 15ms/step - loss: 5.5442 - accuracy: 0.0700\n",
            "Epoch 12/100\n",
            "484/484 [==============================] - 7s 15ms/step - loss: 5.4364 - accuracy: 0.0757\n",
            "Epoch 13/100\n",
            "484/484 [==============================] - 7s 15ms/step - loss: 5.3228 - accuracy: 0.0829\n",
            "Epoch 14/100\n",
            "484/484 [==============================] - 7s 15ms/step - loss: 5.2113 - accuracy: 0.0906\n",
            "Epoch 15/100\n",
            "484/484 [==============================] - 7s 15ms/step - loss: 5.0973 - accuracy: 0.0976\n",
            "Epoch 16/100\n",
            "484/484 [==============================] - 8s 16ms/step - loss: 4.9804 - accuracy: 0.1062\n",
            "Epoch 17/100\n",
            "484/484 [==============================] - 7s 15ms/step - loss: 4.8668 - accuracy: 0.1160\n",
            "Epoch 18/100\n",
            "484/484 [==============================] - 7s 15ms/step - loss: 4.7487 - accuracy: 0.1255\n",
            "Epoch 19/100\n",
            "484/484 [==============================] - 7s 15ms/step - loss: 4.6385 - accuracy: 0.1366\n",
            "Epoch 20/100\n",
            "484/484 [==============================] - 7s 15ms/step - loss: 4.5240 - accuracy: 0.1513\n",
            "Epoch 21/100\n",
            "484/484 [==============================] - 7s 15ms/step - loss: 4.4129 - accuracy: 0.1634\n",
            "Epoch 22/100\n",
            "484/484 [==============================] - 7s 15ms/step - loss: 4.2986 - accuracy: 0.1768\n",
            "Epoch 23/100\n",
            "484/484 [==============================] - 7s 15ms/step - loss: 4.1892 - accuracy: 0.1892\n",
            "Epoch 24/100\n",
            "484/484 [==============================] - 7s 15ms/step - loss: 4.0792 - accuracy: 0.2031\n",
            "Epoch 25/100\n",
            "484/484 [==============================] - 7s 15ms/step - loss: 3.9668 - accuracy: 0.2200\n",
            "Epoch 26/100\n",
            "484/484 [==============================] - 7s 15ms/step - loss: 3.8621 - accuracy: 0.2319\n",
            "Epoch 27/100\n",
            "484/484 [==============================] - 7s 15ms/step - loss: 3.7552 - accuracy: 0.2542\n",
            "Epoch 28/100\n",
            "484/484 [==============================] - 7s 15ms/step - loss: 3.6453 - accuracy: 0.2711\n",
            "Epoch 29/100\n",
            "484/484 [==============================] - 7s 15ms/step - loss: 3.5422 - accuracy: 0.2961\n",
            "Epoch 30/100\n",
            "484/484 [==============================] - 8s 16ms/step - loss: 3.4397 - accuracy: 0.3159\n",
            "Epoch 31/100\n",
            "484/484 [==============================] - 8s 16ms/step - loss: 3.3425 - accuracy: 0.3368\n",
            "Epoch 32/100\n",
            "484/484 [==============================] - 7s 15ms/step - loss: 3.2520 - accuracy: 0.3592\n",
            "Epoch 33/100\n",
            "484/484 [==============================] - 7s 15ms/step - loss: 3.1731 - accuracy: 0.3748\n",
            "Epoch 34/100\n",
            "484/484 [==============================] - 7s 15ms/step - loss: 3.0594 - accuracy: 0.3989\n",
            "Epoch 35/100\n",
            "484/484 [==============================] - 7s 15ms/step - loss: 2.9772 - accuracy: 0.4225\n",
            "Epoch 36/100\n",
            "484/484 [==============================] - 7s 15ms/step - loss: 2.8924 - accuracy: 0.4358\n",
            "Epoch 37/100\n",
            "484/484 [==============================] - 7s 15ms/step - loss: 2.8106 - accuracy: 0.4612\n",
            "Epoch 38/100\n",
            "484/484 [==============================] - 7s 15ms/step - loss: 2.7276 - accuracy: 0.4800\n",
            "Epoch 39/100\n",
            "484/484 [==============================] - 7s 15ms/step - loss: 2.6665 - accuracy: 0.4933\n",
            "Epoch 40/100\n",
            "484/484 [==============================] - 7s 15ms/step - loss: 2.5888 - accuracy: 0.5113\n",
            "Epoch 41/100\n",
            "484/484 [==============================] - 7s 15ms/step - loss: 2.5226 - accuracy: 0.5272\n",
            "Epoch 42/100\n",
            "484/484 [==============================] - 7s 15ms/step - loss: 2.4633 - accuracy: 0.5354\n",
            "Epoch 43/100\n",
            "484/484 [==============================] - 7s 15ms/step - loss: 2.3837 - accuracy: 0.5548\n",
            "Epoch 44/100\n",
            "484/484 [==============================] - 7s 15ms/step - loss: 2.3303 - accuracy: 0.5696\n",
            "Epoch 45/100\n",
            "484/484 [==============================] - 7s 15ms/step - loss: 2.2671 - accuracy: 0.5845\n",
            "Epoch 46/100\n",
            "484/484 [==============================] - 7s 15ms/step - loss: 2.2148 - accuracy: 0.5997\n",
            "Epoch 47/100\n",
            "484/484 [==============================] - 7s 15ms/step - loss: 2.1620 - accuracy: 0.6098\n",
            "Epoch 48/100\n",
            "484/484 [==============================] - 7s 15ms/step - loss: 2.1104 - accuracy: 0.6184\n",
            "Epoch 49/100\n",
            "484/484 [==============================] - 7s 15ms/step - loss: 2.0666 - accuracy: 0.6283\n",
            "Epoch 50/100\n",
            "484/484 [==============================] - 7s 15ms/step - loss: 2.0139 - accuracy: 0.6424\n",
            "Epoch 51/100\n",
            "484/484 [==============================] - 7s 15ms/step - loss: 1.9723 - accuracy: 0.6522\n",
            "Epoch 52/100\n",
            "484/484 [==============================] - 7s 15ms/step - loss: 1.9314 - accuracy: 0.6586\n",
            "Epoch 53/100\n",
            "484/484 [==============================] - 7s 15ms/step - loss: 1.8890 - accuracy: 0.6702\n",
            "Epoch 54/100\n",
            "484/484 [==============================] - 7s 15ms/step - loss: 1.8485 - accuracy: 0.6766\n",
            "Epoch 55/100\n",
            "484/484 [==============================] - 7s 15ms/step - loss: 1.7891 - accuracy: 0.6937\n",
            "Epoch 56/100\n",
            "484/484 [==============================] - 7s 15ms/step - loss: 1.7605 - accuracy: 0.6950\n",
            "Epoch 57/100\n",
            "484/484 [==============================] - 7s 15ms/step - loss: 1.7223 - accuracy: 0.7028\n",
            "Epoch 58/100\n",
            "484/484 [==============================] - 7s 15ms/step - loss: 1.6940 - accuracy: 0.7089\n",
            "Epoch 59/100\n",
            "484/484 [==============================] - 7s 15ms/step - loss: 1.6657 - accuracy: 0.7121\n",
            "Epoch 60/100\n",
            "484/484 [==============================] - 7s 15ms/step - loss: 1.6351 - accuracy: 0.7173\n",
            "Epoch 61/100\n",
            "484/484 [==============================] - 7s 15ms/step - loss: 1.6100 - accuracy: 0.7255\n",
            "Epoch 62/100\n",
            "484/484 [==============================] - 7s 15ms/step - loss: 1.5909 - accuracy: 0.7293\n",
            "Epoch 63/100\n",
            "484/484 [==============================] - 7s 15ms/step - loss: 1.5482 - accuracy: 0.7377\n",
            "Epoch 64/100\n",
            "484/484 [==============================] - 7s 15ms/step - loss: 1.5194 - accuracy: 0.7414\n",
            "Epoch 65/100\n",
            "484/484 [==============================] - 7s 15ms/step - loss: 1.4978 - accuracy: 0.7490\n",
            "Epoch 66/100\n",
            "484/484 [==============================] - 7s 15ms/step - loss: 1.4664 - accuracy: 0.7514\n",
            "Epoch 67/100\n",
            "484/484 [==============================] - 7s 15ms/step - loss: 1.4389 - accuracy: 0.7600\n",
            "Epoch 68/100\n",
            "484/484 [==============================] - 7s 15ms/step - loss: 1.4270 - accuracy: 0.7599\n",
            "Epoch 69/100\n",
            "484/484 [==============================] - 7s 15ms/step - loss: 1.4130 - accuracy: 0.7605\n",
            "Epoch 70/100\n",
            "484/484 [==============================] - 7s 15ms/step - loss: 1.3944 - accuracy: 0.7646\n",
            "Epoch 71/100\n",
            "484/484 [==============================] - 7s 15ms/step - loss: 1.3681 - accuracy: 0.7712\n",
            "Epoch 72/100\n",
            "484/484 [==============================] - 7s 15ms/step - loss: 1.3412 - accuracy: 0.7749\n",
            "Epoch 73/100\n",
            "484/484 [==============================] - 8s 16ms/step - loss: 1.3137 - accuracy: 0.7803\n",
            "Epoch 74/100\n",
            "484/484 [==============================] - 8s 16ms/step - loss: 1.3138 - accuracy: 0.7789\n",
            "Epoch 75/100\n",
            "484/484 [==============================] - 7s 15ms/step - loss: 1.2952 - accuracy: 0.7818\n",
            "Epoch 76/100\n",
            "484/484 [==============================] - 7s 15ms/step - loss: 1.2853 - accuracy: 0.7837\n",
            "Epoch 77/100\n",
            "484/484 [==============================] - 7s 15ms/step - loss: 1.2590 - accuracy: 0.7894\n",
            "Epoch 78/100\n",
            "484/484 [==============================] - 7s 15ms/step - loss: 1.2299 - accuracy: 0.7951\n",
            "Epoch 79/100\n",
            "484/484 [==============================] - 7s 15ms/step - loss: 1.2339 - accuracy: 0.7923\n",
            "Epoch 80/100\n",
            "484/484 [==============================] - 7s 15ms/step - loss: 1.2337 - accuracy: 0.7908\n",
            "Epoch 81/100\n",
            "484/484 [==============================] - 7s 15ms/step - loss: 1.2237 - accuracy: 0.7941\n",
            "Epoch 82/100\n",
            "484/484 [==============================] - 7s 15ms/step - loss: 1.1932 - accuracy: 0.7983\n",
            "Epoch 83/100\n",
            "484/484 [==============================] - 7s 15ms/step - loss: 1.1893 - accuracy: 0.7996\n",
            "Epoch 84/100\n",
            "484/484 [==============================] - 7s 15ms/step - loss: 1.1702 - accuracy: 0.8021\n",
            "Epoch 85/100\n",
            "484/484 [==============================] - 7s 15ms/step - loss: 1.1370 - accuracy: 0.8092\n",
            "Epoch 86/100\n",
            "484/484 [==============================] - 7s 15ms/step - loss: 1.1124 - accuracy: 0.8136\n",
            "Epoch 87/100\n",
            "484/484 [==============================] - 7s 15ms/step - loss: 1.1220 - accuracy: 0.8104\n",
            "Epoch 88/100\n",
            "484/484 [==============================] - 7s 15ms/step - loss: 1.1471 - accuracy: 0.8029\n",
            "Epoch 89/100\n",
            "484/484 [==============================] - 7s 15ms/step - loss: 1.1290 - accuracy: 0.8068\n",
            "Epoch 90/100\n",
            "484/484 [==============================] - 7s 15ms/step - loss: 1.1174 - accuracy: 0.8079\n",
            "Epoch 91/100\n",
            "484/484 [==============================] - 7s 15ms/step - loss: 1.0973 - accuracy: 0.8131\n",
            "Epoch 92/100\n",
            "484/484 [==============================] - 7s 15ms/step - loss: 1.0948 - accuracy: 0.8113\n",
            "Epoch 93/100\n",
            "484/484 [==============================] - 7s 15ms/step - loss: 1.0714 - accuracy: 0.8158\n",
            "Epoch 94/100\n",
            "484/484 [==============================] - 7s 15ms/step - loss: 1.0623 - accuracy: 0.8185\n",
            "Epoch 95/100\n",
            "484/484 [==============================] - 7s 15ms/step - loss: 1.0537 - accuracy: 0.8183\n",
            "Epoch 96/100\n",
            "484/484 [==============================] - 7s 15ms/step - loss: 1.0563 - accuracy: 0.8168\n",
            "Epoch 97/100\n",
            "484/484 [==============================] - 7s 15ms/step - loss: 1.0616 - accuracy: 0.8163\n",
            "Epoch 98/100\n",
            "484/484 [==============================] - 7s 15ms/step - loss: 1.0470 - accuracy: 0.8184\n",
            "Epoch 99/100\n",
            "484/484 [==============================] - 7s 15ms/step - loss: 1.0240 - accuracy: 0.8227\n",
            "Epoch 100/100\n",
            "484/484 [==============================] - 8s 16ms/step - loss: 1.0262 - accuracy: 0.8198\n"
          ],
          "name": "stdout"
        }
      ]
    },
    {
      "cell_type": "code",
      "metadata": {
        "colab_type": "code",
        "id": "1fXTEO3GJ282",
        "colab": {
          "base_uri": "https://localhost:8080/",
          "height": 545
        },
        "outputId": "dbd78436-27e3-45c9-fbfd-51f5501c8a2d"
      },
      "source": [
        "import matplotlib.pyplot as plt\n",
        "acc = history.history['accuracy']\n",
        "loss = history.history['loss']\n",
        "\n",
        "epochs = range(len(acc))\n",
        "\n",
        "plt.plot(epochs, acc, 'b', label='Training accuracy')\n",
        "plt.title('Training accuracy')\n",
        "\n",
        "plt.figure()\n",
        "\n",
        "plt.plot(epochs, loss, 'b', label='Training Loss')\n",
        "plt.title('Training loss')\n",
        "plt.legend()\n",
        "\n",
        "plt.show()"
      ],
      "execution_count": 8,
      "outputs": [
        {
          "output_type": "display_data",
          "data": {
            "image/png": "[encoded data removed]",
            "text/plain": [
              "<Figure size 432x288 with 1 Axes>"
            ]
          },
          "metadata": {
            "tags": [],
            "needs_background": "light"
          }
        },
        {
          "output_type": "display_data",
          "data": {
            "image/png": "[encoded data removed]",
            "text/plain": [
              "<Figure size 432x288 with 1 Axes>"
            ]
          },
          "metadata": {
            "tags": [],
            "needs_background": "light"
          }
        }
      ]
    },
    {
      "cell_type": "code",
      "metadata": {
        "colab_type": "code",
        "id": "6Vc6PHgxa6Hm",
        "colab": {
          "base_uri": "https://localhost:8080/",
          "height": 104
        },
        "outputId": "18f26d3f-56f8-4a29-c210-1b297841c2a6"
      },
      "source": [
        "seed_text = \"Help me Obi Wan Kenobi, you're my only hope\"\n",
        "next_words = 100\n",
        "  \n",
        "for _ in range(next_words):\n",
        "\ttoken_list = tokenizer.texts_to_sequences([seed_text])[0]\n",
        "\ttoken_list = pad_sequences([token_list], maxlen=max_sequence_len-1, padding='pre')\n",
        "\tpredicted = model.predict_classes(token_list, verbose=0)\n",
        "\toutput_word = \"\"\n",
        "\tfor word, index in tokenizer.word_index.items():\n",
        "\t\tif index == predicted:\n",
        "\t\t\toutput_word = word\n",
        "\t\t\tbreak\n",
        "\tseed_text += \" \" + output_word\n",
        "print(seed_text)"
      ],
      "execution_count": 9,
      "outputs": [
        {
          "output_type": "stream",
          "text": [
            "WARNING:tensorflow:From <ipython-input-9-622d307fa19a>:7: Sequential.predict_classes (from tensorflow.python.keras.engine.sequential) is deprecated and will be removed after 2021-01-01.\n",
            "Instructions for updating:\n",
            "Please use instead:* `np.argmax(model.predict(x), axis=-1)`,   if your model does multi-class classification   (e.g. if it uses a `softmax` last-layer activation).* `(model.predict(x) > 0.5).astype(\"int32\")`,   if your model does binary classification   (e.g. if it uses a `sigmoid` last-layer activation).\n",
            "Help me Obi Wan Kenobi, you're my only hope eye without thy side another verse age can lie write that me so not so dear one kill me had bearing none none friend desire ' still so none none give be hate on days none know you look in doubt life in one wrong might none stand through him till thee thence so green thee resort keep ere thence green me told they rolling none crime grew day through such hue thy growth of memory lie new new bright ' releasing so hate on me green bearing none woe tongue ' so 'no ' still ' releasing so 'will\n"
          ],
          "name": "stdout"
        }
      ]
    },
    {
      "cell_type": "code",
      "metadata": {
        "id": "VgsIXObuW88H",
        "colab_type": "code",
        "colab": {}
      },
      "source": [
        ""
      ],
      "execution_count": 0,
      "outputs": []
    }
  ]
}