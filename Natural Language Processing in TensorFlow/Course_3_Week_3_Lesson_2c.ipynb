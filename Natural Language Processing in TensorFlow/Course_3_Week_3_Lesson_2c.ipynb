{
  "nbformat": 4,
  "nbformat_minor": 0,
  "metadata": {
    "accelerator": "GPU",
    "colab": {
      "name": "Copy of Course 3 - Week 3 - Lesson 2c.ipynb",
      "provenance": [],
      "collapsed_sections": [],
      "include_colab_link": true
    },
    "kernelspec": {
      "display_name": "Python 3",
      "name": "python3"
    }
  },
  "cells": [
    {
      "cell_type": "markdown",
      "metadata": {
        "id": "view-in-github",
        "colab_type": "text"
      },
      "source": [
        "<a href=\"https://colab.research.google.com/github/alistair0111/TensorFlow-In-Practice/blob/master/Natural%20Language%20Processing%20in%20TensorFlow/Course_3_Week_3_Lesson_2c.ipynb\" target=\"_parent\"><img src=\"https://colab.research.google.com/assets/colab-badge.svg\" alt=\"Open In Colab\"/></a>"
      ]
    },
    {
      "cell_type": "code",
      "metadata": {
        "id": "zX4Kg8DUTKWO",
        "colab_type": "code",
        "colab": {}
      },
      "source": [
        "#@title Licensed under the Apache License, Version 2.0 (the \"License\");\n",
        "# you may not use this file except in compliance with the License.\n",
        "# You may obtain a copy of the License at\n",
        "#\n",
        "# https://www.apache.org/licenses/LICENSE-2.0\n",
        "#\n",
        "# Unless required by applicable law or agreed to in writing, software\n",
        "# distributed under the License is distributed on an \"AS IS\" BASIS,\n",
        "# WITHOUT WARRANTIES OR CONDITIONS OF ANY KIND, either express or implied.\n",
        "# See the License for the specific language governing permissions and\n",
        "# limitations under the License."
      ],
      "execution_count": 0,
      "outputs": []
    },
    {
      "cell_type": "code",
      "metadata": {
        "colab_type": "code",
        "id": "jGwXGIXvFhXW",
        "colab": {
          "base_uri": "https://localhost:8080/",
          "height": 1000
        },
        "outputId": "95ad069e-0e08-493d-e56d-471536fba825"
      },
      "source": [
        "import json\n",
        "import tensorflow as tf\n",
        "import numpy as np\n",
        "\n",
        "from tensorflow.keras.preprocessing.text import Tokenizer\n",
        "from tensorflow.keras.preprocessing.sequence import pad_sequences\n",
        "\n",
        "!wget --no-check-certificate \\\n",
        "    https://storage.googleapis.com/laurencemoroney-blog.appspot.com/sarcasm.json \\\n",
        "    -O /tmp/sarcasm.json\n",
        "\n",
        "vocab_size = 1000\n",
        "embedding_dim = 16\n",
        "max_length = 120\n",
        "trunc_type='post'\n",
        "padding_type='post'\n",
        "oov_tok = \"<OOV>\"\n",
        "training_size = 20000\n",
        "\n",
        "\n",
        "with open(\"/tmp/sarcasm.json\", 'r') as f:\n",
        "    datastore = json.load(f)\n",
        "\n",
        "\n",
        "sentences = []\n",
        "labels = []\n",
        "urls = []\n",
        "for item in datastore:\n",
        "    sentences.append(item['headline'])\n",
        "    labels.append(item['is_sarcastic'])\n",
        "\n",
        "training_sentences = sentences[0:training_size]\n",
        "testing_sentences = sentences[training_size:]\n",
        "training_labels = np.array(labels[0:training_size])\n",
        "testing_labels = np.array(labels[training_size:])\n",
        "\n",
        "tokenizer = Tokenizer(num_words=vocab_size, oov_token=oov_tok)\n",
        "tokenizer.fit_on_texts(training_sentences)\n",
        "\n",
        "word_index = tokenizer.word_index\n",
        "\n",
        "training_sequences = tokenizer.texts_to_sequences(training_sentences)\n",
        "training_padded = pad_sequences(training_sequences, maxlen=max_length, padding=padding_type, truncating=trunc_type)\n",
        "\n",
        "testing_sequences = tokenizer.texts_to_sequences(testing_sentences)\n",
        "testing_padded = pad_sequences(testing_sequences, maxlen=max_length, padding=padding_type, truncating=trunc_type)\n",
        "\n",
        "model = tf.keras.Sequential([\n",
        "    tf.keras.layers.Embedding(vocab_size, embedding_dim, input_length=max_length),\n",
        "    tf.keras.layers.Conv1D(128, 5, activation='relu'),\n",
        "    tf.keras.layers.GlobalMaxPooling1D(),\n",
        "    tf.keras.layers.Dense(24, activation='relu'),\n",
        "    tf.keras.layers.Dense(1, activation='sigmoid')\n",
        "])\n",
        "model.compile(loss='binary_crossentropy',optimizer='adam',metrics=['accuracy'])\n",
        "model.summary()\n",
        "\n",
        "num_epochs = 50\n",
        "history = model.fit(training_padded, training_labels, epochs=num_epochs, validation_data=(testing_padded, testing_labels), verbose=1)\n"
      ],
      "execution_count": 3,
      "outputs": [
        {
          "output_type": "stream",
          "text": [
            "--2020-05-25 12:57:52--  https://storage.googleapis.com/laurencemoroney-blog.appspot.com/sarcasm.json\n",
            "Resolving storage.googleapis.com (storage.googleapis.com)... 173.194.192.128, 2607:f8b0:4001:c05::80\n",
            "Connecting to storage.googleapis.com (storage.googleapis.com)|173.194.192.128|:443... connected.\n",
            "HTTP request sent, awaiting response... 200 OK\n",
            "Length: 5643545 (5.4M) [application/json]\n",
            "Saving to: ‘/tmp/sarcasm.json’\n",
            "\n",
            "\r/tmp/sarcasm.json     0%[                    ]       0  --.-KB/s               \r/tmp/sarcasm.json   100%[===================>]   5.38M  --.-KB/s    in 0.03s   \n",
            "\n",
            "2020-05-25 12:57:52 (184 MB/s) - ‘/tmp/sarcasm.json’ saved [5643545/5643545]\n",
            "\n",
            "Model: \"sequential_1\"\n",
            "_________________________________________________________________\n",
            "Layer (type)                 Output Shape              Param #   \n",
            "=================================================================\n",
            "embedding_1 (Embedding)      (None, 120, 16)           16000     \n",
            "_________________________________________________________________\n",
            "conv1d_1 (Conv1D)            (None, 116, 128)          10368     \n",
            "_________________________________________________________________\n",
            "global_max_pooling1d_1 (Glob (None, 128)               0         \n",
            "_________________________________________________________________\n",
            "dense_2 (Dense)              (None, 24)                3096      \n",
            "_________________________________________________________________\n",
            "dense_3 (Dense)              (None, 1)                 25        \n",
            "=================================================================\n",
            "Total params: 29,489\n",
            "Trainable params: 29,489\n",
            "Non-trainable params: 0\n",
            "_________________________________________________________________\n",
            "Epoch 1/50\n",
            "625/625 [==============================] - 4s 7ms/step - loss: 0.4762 - accuracy: 0.7561 - val_loss: 0.4103 - val_accuracy: 0.8164\n",
            "Epoch 2/50\n",
            "625/625 [==============================] - 4s 7ms/step - loss: 0.3647 - accuracy: 0.8346 - val_loss: 0.3910 - val_accuracy: 0.8243\n",
            "Epoch 3/50\n",
            "625/625 [==============================] - 4s 7ms/step - loss: 0.3247 - accuracy: 0.8568 - val_loss: 0.3906 - val_accuracy: 0.8250\n",
            "Epoch 4/50\n",
            "625/625 [==============================] - 5s 7ms/step - loss: 0.2896 - accuracy: 0.8742 - val_loss: 0.4038 - val_accuracy: 0.8231\n",
            "Epoch 5/50\n",
            "625/625 [==============================] - 4s 7ms/step - loss: 0.2533 - accuracy: 0.8923 - val_loss: 0.4354 - val_accuracy: 0.8211\n",
            "Epoch 6/50\n",
            "625/625 [==============================] - 4s 7ms/step - loss: 0.2183 - accuracy: 0.9114 - val_loss: 0.4740 - val_accuracy: 0.8134\n",
            "Epoch 7/50\n",
            "625/625 [==============================] - 4s 7ms/step - loss: 0.1877 - accuracy: 0.9277 - val_loss: 0.5200 - val_accuracy: 0.8089\n",
            "Epoch 8/50\n",
            "625/625 [==============================] - 4s 7ms/step - loss: 0.1550 - accuracy: 0.9409 - val_loss: 0.5867 - val_accuracy: 0.8034\n",
            "Epoch 9/50\n",
            "625/625 [==============================] - 5s 7ms/step - loss: 0.1267 - accuracy: 0.9538 - val_loss: 0.6917 - val_accuracy: 0.7961\n",
            "Epoch 10/50\n",
            "625/625 [==============================] - 4s 7ms/step - loss: 0.1045 - accuracy: 0.9631 - val_loss: 0.7348 - val_accuracy: 0.7997\n",
            "Epoch 11/50\n",
            "625/625 [==============================] - 4s 7ms/step - loss: 0.0852 - accuracy: 0.9704 - val_loss: 0.8160 - val_accuracy: 0.7877\n",
            "Epoch 12/50\n",
            "625/625 [==============================] - 4s 7ms/step - loss: 0.0684 - accuracy: 0.9773 - val_loss: 0.9038 - val_accuracy: 0.7937\n",
            "Epoch 13/50\n",
            "625/625 [==============================] - 4s 7ms/step - loss: 0.0583 - accuracy: 0.9808 - val_loss: 0.9705 - val_accuracy: 0.7909\n",
            "Epoch 14/50\n",
            "625/625 [==============================] - 4s 7ms/step - loss: 0.0501 - accuracy: 0.9832 - val_loss: 1.1381 - val_accuracy: 0.7874\n",
            "Epoch 15/50\n",
            "625/625 [==============================] - 4s 7ms/step - loss: 0.0454 - accuracy: 0.9850 - val_loss: 1.1885 - val_accuracy: 0.7877\n",
            "Epoch 16/50\n",
            "625/625 [==============================] - 4s 7ms/step - loss: 0.0487 - accuracy: 0.9829 - val_loss: 1.2332 - val_accuracy: 0.7898\n",
            "Epoch 17/50\n",
            "625/625 [==============================] - 4s 7ms/step - loss: 0.0427 - accuracy: 0.9844 - val_loss: 1.2957 - val_accuracy: 0.7801\n",
            "Epoch 18/50\n",
            "625/625 [==============================] - 4s 7ms/step - loss: 0.0393 - accuracy: 0.9851 - val_loss: 1.3997 - val_accuracy: 0.7810\n",
            "Epoch 19/50\n",
            "625/625 [==============================] - 4s 7ms/step - loss: 0.0354 - accuracy: 0.9865 - val_loss: 1.4048 - val_accuracy: 0.7825\n",
            "Epoch 20/50\n",
            "625/625 [==============================] - 4s 7ms/step - loss: 0.0331 - accuracy: 0.9882 - val_loss: 1.4473 - val_accuracy: 0.7813\n",
            "Epoch 21/50\n",
            "625/625 [==============================] - 4s 7ms/step - loss: 0.0352 - accuracy: 0.9869 - val_loss: 1.4966 - val_accuracy: 0.7889\n",
            "Epoch 22/50\n",
            "625/625 [==============================] - 4s 7ms/step - loss: 0.0369 - accuracy: 0.9854 - val_loss: 1.5083 - val_accuracy: 0.7830\n",
            "Epoch 23/50\n",
            "625/625 [==============================] - 4s 7ms/step - loss: 0.0304 - accuracy: 0.9880 - val_loss: 1.6095 - val_accuracy: 0.7855\n",
            "Epoch 24/50\n",
            "625/625 [==============================] - 4s 7ms/step - loss: 0.0275 - accuracy: 0.9898 - val_loss: 1.6193 - val_accuracy: 0.7827\n",
            "Epoch 25/50\n",
            "625/625 [==============================] - 4s 7ms/step - loss: 0.0304 - accuracy: 0.9880 - val_loss: 1.7452 - val_accuracy: 0.7791\n",
            "Epoch 26/50\n",
            "625/625 [==============================] - 4s 7ms/step - loss: 0.0283 - accuracy: 0.9888 - val_loss: 1.8307 - val_accuracy: 0.7849\n",
            "Epoch 27/50\n",
            "625/625 [==============================] - 4s 7ms/step - loss: 0.0277 - accuracy: 0.9892 - val_loss: 1.8428 - val_accuracy: 0.7837\n",
            "Epoch 28/50\n",
            "625/625 [==============================] - 4s 7ms/step - loss: 0.0283 - accuracy: 0.9886 - val_loss: 1.8518 - val_accuracy: 0.7745\n",
            "Epoch 29/50\n",
            "625/625 [==============================] - 4s 7ms/step - loss: 0.0245 - accuracy: 0.9904 - val_loss: 1.8860 - val_accuracy: 0.7797\n",
            "Epoch 30/50\n",
            "625/625 [==============================] - 4s 7ms/step - loss: 0.0264 - accuracy: 0.9894 - val_loss: 1.8903 - val_accuracy: 0.7763\n",
            "Epoch 31/50\n",
            "625/625 [==============================] - 4s 7ms/step - loss: 0.0296 - accuracy: 0.9882 - val_loss: 1.8990 - val_accuracy: 0.7776\n",
            "Epoch 32/50\n",
            "625/625 [==============================] - 4s 7ms/step - loss: 0.0224 - accuracy: 0.9907 - val_loss: 2.1716 - val_accuracy: 0.7840\n",
            "Epoch 33/50\n",
            "625/625 [==============================] - 4s 7ms/step - loss: 0.0208 - accuracy: 0.9917 - val_loss: 2.0446 - val_accuracy: 0.7842\n",
            "Epoch 34/50\n",
            "625/625 [==============================] - 4s 7ms/step - loss: 0.0237 - accuracy: 0.9905 - val_loss: 2.0520 - val_accuracy: 0.7787\n",
            "Epoch 35/50\n",
            "625/625 [==============================] - 4s 7ms/step - loss: 0.0281 - accuracy: 0.9888 - val_loss: 2.1496 - val_accuracy: 0.7837\n",
            "Epoch 36/50\n",
            "625/625 [==============================] - 4s 7ms/step - loss: 0.0279 - accuracy: 0.9887 - val_loss: 2.1389 - val_accuracy: 0.7794\n",
            "Epoch 37/50\n",
            "625/625 [==============================] - 4s 7ms/step - loss: 0.0251 - accuracy: 0.9894 - val_loss: 2.1271 - val_accuracy: 0.7798\n",
            "Epoch 38/50\n",
            "625/625 [==============================] - 4s 7ms/step - loss: 0.0211 - accuracy: 0.9916 - val_loss: 2.1638 - val_accuracy: 0.7831\n",
            "Epoch 39/50\n",
            "625/625 [==============================] - 4s 7ms/step - loss: 0.0207 - accuracy: 0.9914 - val_loss: 2.3328 - val_accuracy: 0.7766\n",
            "Epoch 40/50\n",
            "625/625 [==============================] - 4s 7ms/step - loss: 0.0188 - accuracy: 0.9919 - val_loss: 2.3172 - val_accuracy: 0.7815\n",
            "Epoch 41/50\n",
            "625/625 [==============================] - 4s 7ms/step - loss: 0.0213 - accuracy: 0.9911 - val_loss: 2.4829 - val_accuracy: 0.7693\n",
            "Epoch 42/50\n",
            "625/625 [==============================] - 4s 7ms/step - loss: 0.0205 - accuracy: 0.9911 - val_loss: 2.3856 - val_accuracy: 0.7828\n",
            "Epoch 43/50\n",
            "625/625 [==============================] - 4s 7ms/step - loss: 0.0183 - accuracy: 0.9918 - val_loss: 2.4671 - val_accuracy: 0.7767\n",
            "Epoch 44/50\n",
            "625/625 [==============================] - 4s 7ms/step - loss: 0.0214 - accuracy: 0.9908 - val_loss: 2.5273 - val_accuracy: 0.7749\n",
            "Epoch 45/50\n",
            "625/625 [==============================] - 4s 7ms/step - loss: 0.0237 - accuracy: 0.9898 - val_loss: 2.4677 - val_accuracy: 0.7754\n",
            "Epoch 46/50\n",
            "625/625 [==============================] - 4s 7ms/step - loss: 0.0255 - accuracy: 0.9893 - val_loss: 2.4481 - val_accuracy: 0.7793\n",
            "Epoch 47/50\n",
            "625/625 [==============================] - 4s 7ms/step - loss: 0.0206 - accuracy: 0.9908 - val_loss: 2.5944 - val_accuracy: 0.7767\n",
            "Epoch 48/50\n",
            "625/625 [==============================] - 4s 7ms/step - loss: 0.0196 - accuracy: 0.9913 - val_loss: 2.5659 - val_accuracy: 0.7758\n",
            "Epoch 49/50\n",
            "625/625 [==============================] - 4s 7ms/step - loss: 0.0195 - accuracy: 0.9915 - val_loss: 2.6324 - val_accuracy: 0.7800\n",
            "Epoch 50/50\n",
            "625/625 [==============================] - 4s 7ms/step - loss: 0.0225 - accuracy: 0.9909 - val_loss: 2.6806 - val_accuracy: 0.7818\n"
          ],
          "name": "stdout"
        }
      ]
    },
    {
      "cell_type": "code",
      "metadata": {
        "colab_type": "code",
        "id": "g9DC6dmLF8DC",
        "colab": {
          "base_uri": "https://localhost:8080/",
          "height": 542
        },
        "outputId": "e234942e-a979-4e5b-f237-545401e6a469"
      },
      "source": [
        "import matplotlib.pyplot as plt\n",
        "\n",
        "\n",
        "def plot_graphs(history, string):\n",
        "  plt.plot(history.history[string])\n",
        "  plt.plot(history.history['val_'+string])\n",
        "  plt.xlabel(\"Epochs\")\n",
        "  plt.ylabel(string)\n",
        "  plt.legend([string, 'val_'+string])\n",
        "  plt.show()\n",
        "\n",
        "plot_graphs(history, 'accuracy')\n",
        "plot_graphs(history, 'loss')"
      ],
      "execution_count": 4,
      "outputs": [
        {
          "output_type": "display_data",
          "data": {
            "image/png": "[encoded data removed]",
            "text/plain": [
              "<Figure size 432x288 with 1 Axes>"
            ]
          },
          "metadata": {
            "tags": [],
            "needs_background": "light"
          }
        },
        {
          "output_type": "display_data",
          "data": {
            "image/png": "[encoded data removed]",
            "text/plain": [
              "<Figure size 432x288 with 1 Axes>"
            ]
          },
          "metadata": {
            "tags": [],
            "needs_background": "light"
          }
        }
      ]
    },
    {
      "cell_type": "code",
      "metadata": {
        "colab_type": "code",
        "id": "7ZEZIUppGhdi",
        "colab": {}
      },
      "source": [
        "model.save(\"test.h5\")"
      ],
      "execution_count": 0,
      "outputs": []
    },
    {
      "cell_type": "code",
      "metadata": {
        "id": "DzaujvA06axO",
        "colab_type": "code",
        "colab": {}
      },
      "source": [
        ""
      ],
      "execution_count": 0,
      "outputs": []
    }
  ]
}