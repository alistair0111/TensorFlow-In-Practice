{
  "nbformat": 4,
  "nbformat_minor": 0,
  "metadata": {
    "accelerator": "GPU",
    "colab": {
      "name": "Copy of Course 3 - Week 3 - Lesson 2.ipynb",
      "provenance": [],
      "collapsed_sections": [],
      "include_colab_link": true
    },
    "kernelspec": {
      "display_name": "Python 3",
      "name": "python3"
    }
  },
  "cells": [
    {
      "cell_type": "markdown",
      "metadata": {
        "id": "view-in-github",
        "colab_type": "text"
      },
      "source": [
        "<a href=\"https://colab.research.google.com/github/alistair0111/TensorFlow-In-Practice/blob/master/Natural%20Language%20Processing%20in%20TensorFlow/Course_3_Week_3_Lesson_2.ipynb\" target=\"_parent\"><img src=\"https://colab.research.google.com/assets/colab-badge.svg\" alt=\"Open In Colab\"/></a>"
      ]
    },
    {
      "cell_type": "code",
      "metadata": {
        "id": "zX4Kg8DUTKWO",
        "colab_type": "code",
        "colab": {}
      },
      "source": [
        "#@title Licensed under the Apache License, Version 2.0 (the \"License\");\n",
        "# you may not use this file except in compliance with the License.\n",
        "# You may obtain a copy of the License at\n",
        "#\n",
        "# https://www.apache.org/licenses/LICENSE-2.0\n",
        "#\n",
        "# Unless required by applicable law or agreed to in writing, software\n",
        "# distributed under the License is distributed on an \"AS IS\" BASIS,\n",
        "# WITHOUT WARRANTIES OR CONDITIONS OF ANY KIND, either express or implied.\n",
        "# See the License for the specific language governing permissions and\n",
        "# limitations under the License."
      ],
      "execution_count": 0,
      "outputs": []
    },
    {
      "cell_type": "code",
      "metadata": {
        "colab_type": "code",
        "id": "jGwXGIXvFhXW",
        "colab": {
          "base_uri": "https://localhost:8080/",
          "height": 1000
        },
        "outputId": "296a3049-fe43-457d-87ef-f056994eda8d"
      },
      "source": [
        "import json\n",
        "import tensorflow as tf\n",
        "import numpy as np\n",
        "\n",
        "from tensorflow.keras.preprocessing.text import Tokenizer\n",
        "from tensorflow.keras.preprocessing.sequence import pad_sequences\n",
        "\n",
        "!wget --no-check-certificate \\\n",
        "    https://storage.googleapis.com/laurencemoroney-blog.appspot.com/sarcasm.json \\\n",
        "    -O /tmp/sarcasm.json\n",
        "\n",
        "vocab_size = 1000\n",
        "embedding_dim = 16\n",
        "max_length = 120\n",
        "trunc_type='post'\n",
        "padding_type='post'\n",
        "oov_tok = \"<OOV>\"\n",
        "training_size = 20000\n",
        "\n",
        "\n",
        "with open(\"/tmp/sarcasm.json\", 'r') as f:\n",
        "    datastore = json.load(f)\n",
        "\n",
        "\n",
        "sentences = []\n",
        "labels = []\n",
        "urls = []\n",
        "for item in datastore:\n",
        "    sentences.append(item['headline'])\n",
        "    labels.append(item['is_sarcastic'])\n",
        "\n",
        "training_sentences = sentences[0:training_size]\n",
        "testing_sentences = sentences[training_size:]\n",
        "training_labels = labels[0:training_size]\n",
        "testing_labels = labels[training_size:]\n",
        "\n",
        "tokenizer = Tokenizer(num_words=vocab_size, oov_token=oov_tok)\n",
        "tokenizer.fit_on_texts(training_sentences)\n",
        "\n",
        "word_index = tokenizer.word_index\n",
        "\n",
        "training_sequences = tokenizer.texts_to_sequences(training_sentences)\n",
        "training_padded = pad_sequences(training_sequences, maxlen=max_length, padding=padding_type, truncating=trunc_type)\n",
        "\n",
        "testing_sequences = tokenizer.texts_to_sequences(testing_sentences)\n",
        "testing_padded = pad_sequences(testing_sequences, maxlen=max_length, padding=padding_type, truncating=trunc_type)\n",
        "\n",
        "model = tf.keras.Sequential([\n",
        "    tf.keras.layers.Embedding(vocab_size, embedding_dim, input_length=max_length),\n",
        "    tf.keras.layers.Bidirectional(tf.keras.layers.LSTM(32)),\n",
        "    tf.keras.layers.Dense(24, activation='relu'),\n",
        "    tf.keras.layers.Dense(1, activation='sigmoid')\n",
        "])\n",
        "model.compile(loss='binary_crossentropy',optimizer='adam',metrics=['accuracy'])\n",
        "model.summary()\n",
        "\n",
        "num_epochs = 50\n",
        "training_padded = np.array(training_padded)\n",
        "training_labels = np.array(training_labels)\n",
        "testing_padded = np.array(testing_padded)\n",
        "testing_labels = np.array(testing_labels)\n",
        "history = model.fit(training_padded, training_labels, epochs=num_epochs, validation_data=(testing_padded, testing_labels), verbose=1)\n"
      ],
      "execution_count": 4,
      "outputs": [
        {
          "output_type": "stream",
          "text": [
            "--2020-05-25 13:06:32--  https://storage.googleapis.com/laurencemoroney-blog.appspot.com/sarcasm.json\n",
            "Resolving storage.googleapis.com (storage.googleapis.com)... 64.233.167.128, 2a00:1450:400c:c08::80\n",
            "Connecting to storage.googleapis.com (storage.googleapis.com)|64.233.167.128|:443... connected.\n",
            "HTTP request sent, awaiting response... 200 OK\n",
            "Length: 5643545 (5.4M) [application/json]\n",
            "Saving to: ‘/tmp/sarcasm.json’\n",
            "\n",
            "\r/tmp/sarcasm.json     0%[                    ]       0  --.-KB/s               \r/tmp/sarcasm.json   100%[===================>]   5.38M  --.-KB/s    in 0.03s   \n",
            "\n",
            "2020-05-25 13:06:32 (207 MB/s) - ‘/tmp/sarcasm.json’ saved [5643545/5643545]\n",
            "\n",
            "Model: \"sequential_1\"\n",
            "_________________________________________________________________\n",
            "Layer (type)                 Output Shape              Param #   \n",
            "=================================================================\n",
            "embedding_1 (Embedding)      (None, 120, 16)           16000     \n",
            "_________________________________________________________________\n",
            "bidirectional_1 (Bidirection (None, 64)                12544     \n",
            "_________________________________________________________________\n",
            "dense_2 (Dense)              (None, 24)                1560      \n",
            "_________________________________________________________________\n",
            "dense_3 (Dense)              (None, 1)                 25        \n",
            "=================================================================\n",
            "Total params: 30,129\n",
            "Trainable params: 30,129\n",
            "Non-trainable params: 0\n",
            "_________________________________________________________________\n",
            "Epoch 1/50\n",
            "625/625 [==============================] - 38s 61ms/step - loss: 0.4446 - accuracy: 0.7806 - val_loss: 0.3888 - val_accuracy: 0.8208\n",
            "Epoch 2/50\n",
            "625/625 [==============================] - 37s 60ms/step - loss: 0.3567 - accuracy: 0.8360 - val_loss: 0.3852 - val_accuracy: 0.8226\n",
            "Epoch 3/50\n",
            "625/625 [==============================] - 37s 60ms/step - loss: 0.3348 - accuracy: 0.8490 - val_loss: 0.3701 - val_accuracy: 0.8344\n",
            "Epoch 4/50\n",
            "625/625 [==============================] - 37s 60ms/step - loss: 0.3119 - accuracy: 0.8596 - val_loss: 0.3882 - val_accuracy: 0.8284\n",
            "Epoch 5/50\n",
            "625/625 [==============================] - 38s 60ms/step - loss: 0.2972 - accuracy: 0.8679 - val_loss: 0.3790 - val_accuracy: 0.8347\n",
            "Epoch 6/50\n",
            "625/625 [==============================] - 37s 59ms/step - loss: 0.2860 - accuracy: 0.8740 - val_loss: 0.3871 - val_accuracy: 0.8296\n",
            "Epoch 7/50\n",
            "625/625 [==============================] - 37s 59ms/step - loss: 0.2791 - accuracy: 0.8760 - val_loss: 0.4025 - val_accuracy: 0.8269\n",
            "Epoch 8/50\n",
            "625/625 [==============================] - 37s 60ms/step - loss: 0.2710 - accuracy: 0.8826 - val_loss: 0.3903 - val_accuracy: 0.8268\n",
            "Epoch 9/50\n",
            "625/625 [==============================] - 37s 60ms/step - loss: 0.2641 - accuracy: 0.8844 - val_loss: 0.4019 - val_accuracy: 0.8304\n",
            "Epoch 10/50\n",
            "625/625 [==============================] - 37s 60ms/step - loss: 0.2578 - accuracy: 0.8871 - val_loss: 0.4096 - val_accuracy: 0.8250\n",
            "Epoch 11/50\n",
            "625/625 [==============================] - 37s 60ms/step - loss: 0.2502 - accuracy: 0.8893 - val_loss: 0.4523 - val_accuracy: 0.8189\n",
            "Epoch 12/50\n",
            "625/625 [==============================] - 37s 60ms/step - loss: 0.2433 - accuracy: 0.8936 - val_loss: 0.4325 - val_accuracy: 0.8255\n",
            "Epoch 13/50\n",
            "625/625 [==============================] - 37s 60ms/step - loss: 0.2375 - accuracy: 0.8975 - val_loss: 0.4375 - val_accuracy: 0.8217\n",
            "Epoch 14/50\n",
            "625/625 [==============================] - 37s 60ms/step - loss: 0.2287 - accuracy: 0.9012 - val_loss: 0.4591 - val_accuracy: 0.8211\n",
            "Epoch 15/50\n",
            "625/625 [==============================] - 37s 60ms/step - loss: 0.2200 - accuracy: 0.9065 - val_loss: 0.4833 - val_accuracy: 0.8162\n",
            "Epoch 16/50\n",
            "625/625 [==============================] - 37s 60ms/step - loss: 0.2126 - accuracy: 0.9099 - val_loss: 0.5341 - val_accuracy: 0.8158\n",
            "Epoch 17/50\n",
            "625/625 [==============================] - 37s 60ms/step - loss: 0.2048 - accuracy: 0.9146 - val_loss: 0.5021 - val_accuracy: 0.8159\n",
            "Epoch 18/50\n",
            "625/625 [==============================] - 37s 60ms/step - loss: 0.1989 - accuracy: 0.9161 - val_loss: 0.5431 - val_accuracy: 0.8161\n",
            "Epoch 19/50\n",
            "625/625 [==============================] - 37s 60ms/step - loss: 0.1901 - accuracy: 0.9202 - val_loss: 0.6195 - val_accuracy: 0.8088\n",
            "Epoch 20/50\n",
            "625/625 [==============================] - 37s 60ms/step - loss: 0.1844 - accuracy: 0.9225 - val_loss: 0.6110 - val_accuracy: 0.8126\n",
            "Epoch 21/50\n",
            "625/625 [==============================] - 37s 60ms/step - loss: 0.1767 - accuracy: 0.9264 - val_loss: 0.6518 - val_accuracy: 0.8132\n",
            "Epoch 22/50\n",
            "625/625 [==============================] - 37s 60ms/step - loss: 0.1732 - accuracy: 0.9279 - val_loss: 0.6232 - val_accuracy: 0.8123\n",
            "Epoch 23/50\n",
            "625/625 [==============================] - 37s 59ms/step - loss: 0.1643 - accuracy: 0.9301 - val_loss: 0.6720 - val_accuracy: 0.8138\n",
            "Epoch 24/50\n",
            "625/625 [==============================] - 37s 60ms/step - loss: 0.1568 - accuracy: 0.9341 - val_loss: 0.7563 - val_accuracy: 0.8116\n",
            "Epoch 25/50\n",
            "625/625 [==============================] - 37s 60ms/step - loss: 0.1548 - accuracy: 0.9354 - val_loss: 0.8416 - val_accuracy: 0.8058\n",
            "Epoch 26/50\n",
            "625/625 [==============================] - 38s 60ms/step - loss: 0.1493 - accuracy: 0.9380 - val_loss: 0.7717 - val_accuracy: 0.8049\n",
            "Epoch 27/50\n",
            "625/625 [==============================] - 37s 60ms/step - loss: 0.1413 - accuracy: 0.9416 - val_loss: 0.7973 - val_accuracy: 0.8094\n",
            "Epoch 28/50\n",
            "625/625 [==============================] - 37s 60ms/step - loss: 0.1357 - accuracy: 0.9434 - val_loss: 0.8812 - val_accuracy: 0.8100\n",
            "Epoch 29/50\n",
            "625/625 [==============================] - 37s 60ms/step - loss: 0.1334 - accuracy: 0.9434 - val_loss: 0.8939 - val_accuracy: 0.8088\n",
            "Epoch 30/50\n",
            "625/625 [==============================] - 38s 60ms/step - loss: 0.1289 - accuracy: 0.9453 - val_loss: 0.8864 - val_accuracy: 0.8037\n",
            "Epoch 31/50\n",
            "625/625 [==============================] - 37s 60ms/step - loss: 0.1207 - accuracy: 0.9502 - val_loss: 0.9584 - val_accuracy: 0.8043\n",
            "Epoch 32/50\n",
            "625/625 [==============================] - 37s 60ms/step - loss: 0.1206 - accuracy: 0.9487 - val_loss: 1.0627 - val_accuracy: 0.8106\n",
            "Epoch 33/50\n",
            "625/625 [==============================] - 37s 60ms/step - loss: 0.1148 - accuracy: 0.9518 - val_loss: 1.0544 - val_accuracy: 0.8055\n",
            "Epoch 34/50\n",
            "625/625 [==============================] - 37s 60ms/step - loss: 0.1101 - accuracy: 0.9528 - val_loss: 1.2348 - val_accuracy: 0.8041\n",
            "Epoch 35/50\n",
            "625/625 [==============================] - 37s 60ms/step - loss: 0.1122 - accuracy: 0.9521 - val_loss: 1.1609 - val_accuracy: 0.7955\n",
            "Epoch 36/50\n",
            "625/625 [==============================] - 38s 60ms/step - loss: 0.1067 - accuracy: 0.9533 - val_loss: 1.1475 - val_accuracy: 0.8047\n",
            "Epoch 37/50\n",
            "625/625 [==============================] - 37s 60ms/step - loss: 0.1021 - accuracy: 0.9574 - val_loss: 1.1333 - val_accuracy: 0.8025\n",
            "Epoch 38/50\n",
            "625/625 [==============================] - 37s 60ms/step - loss: 0.0991 - accuracy: 0.9580 - val_loss: 1.2710 - val_accuracy: 0.8061\n",
            "Epoch 39/50\n",
            "625/625 [==============================] - 37s 59ms/step - loss: 0.0945 - accuracy: 0.9602 - val_loss: 1.4753 - val_accuracy: 0.8013\n",
            "Epoch 40/50\n",
            "625/625 [==============================] - 37s 60ms/step - loss: 0.0964 - accuracy: 0.9599 - val_loss: 1.2932 - val_accuracy: 0.8037\n",
            "Epoch 41/50\n",
            "625/625 [==============================] - 37s 60ms/step - loss: 0.0878 - accuracy: 0.9618 - val_loss: 1.5155 - val_accuracy: 0.8025\n",
            "Epoch 42/50\n",
            "625/625 [==============================] - 37s 60ms/step - loss: 0.0853 - accuracy: 0.9632 - val_loss: 1.4743 - val_accuracy: 0.8050\n",
            "Epoch 43/50\n",
            "625/625 [==============================] - 37s 60ms/step - loss: 0.0859 - accuracy: 0.9638 - val_loss: 1.4687 - val_accuracy: 0.7986\n",
            "Epoch 44/50\n",
            "625/625 [==============================] - 37s 60ms/step - loss: 0.0842 - accuracy: 0.9645 - val_loss: 1.5958 - val_accuracy: 0.8018\n",
            "Epoch 45/50\n",
            "625/625 [==============================] - 37s 60ms/step - loss: 0.0746 - accuracy: 0.9675 - val_loss: 1.5856 - val_accuracy: 0.8031\n",
            "Epoch 46/50\n",
            "625/625 [==============================] - 37s 60ms/step - loss: 0.0769 - accuracy: 0.9678 - val_loss: 1.6084 - val_accuracy: 0.7979\n",
            "Epoch 47/50\n",
            "625/625 [==============================] - 37s 60ms/step - loss: 0.0763 - accuracy: 0.9675 - val_loss: 1.6626 - val_accuracy: 0.8027\n",
            "Epoch 48/50\n",
            "625/625 [==============================] - 37s 60ms/step - loss: 0.0702 - accuracy: 0.9692 - val_loss: 1.7806 - val_accuracy: 0.7961\n",
            "Epoch 49/50\n",
            "625/625 [==============================] - 37s 60ms/step - loss: 0.0711 - accuracy: 0.9693 - val_loss: 1.7273 - val_accuracy: 0.7998\n",
            "Epoch 50/50\n",
            "625/625 [==============================] - 37s 60ms/step - loss: 0.0681 - accuracy: 0.9707 - val_loss: 1.9032 - val_accuracy: 0.7956\n"
          ],
          "name": "stdout"
        }
      ]
    },
    {
      "cell_type": "code",
      "metadata": {
        "colab_type": "code",
        "id": "g9DC6dmLF8DC",
        "colab": {
          "base_uri": "https://localhost:8080/",
          "height": 541
        },
        "outputId": "ed087376-3309-46cc-9859-16ccd553302b"
      },
      "source": [
        "import matplotlib.pyplot as plt\n",
        "\n",
        "\n",
        "def plot_graphs(history, string):\n",
        "  plt.plot(history.history[string])\n",
        "  plt.plot(history.history['val_'+string])\n",
        "  plt.xlabel(\"Epochs\")\n",
        "  plt.ylabel(string)\n",
        "  plt.legend([string, 'val_'+string])\n",
        "  plt.show()\n",
        "\n",
        "plot_graphs(history, 'accuracy')\n",
        "plot_graphs(history, 'loss')"
      ],
      "execution_count": 5,
      "outputs": [
        {
          "output_type": "display_data",
          "data": {
            "image/png": "[encoded data removed]",
            "text/plain": [
              "<Figure size 432x288 with 1 Axes>"
            ]
          },
          "metadata": {
            "tags": [],
            "needs_background": "light"
          }
        },
        {
          "output_type": "display_data",
          "data": {
            "image/png": "[encoded data removed]",
            "text/plain": [
              "<Figure size 432x288 with 1 Axes>"
            ]
          },
          "metadata": {
            "tags": [],
            "needs_background": "light"
          }
        }
      ]
    },
    {
      "cell_type": "code",
      "metadata": {
        "colab_type": "code",
        "id": "7ZEZIUppGhdi",
        "colab": {}
      },
      "source": [
        "model.save(\"test.h5\")"
      ],
      "execution_count": 0,
      "outputs": []
    },
    {
      "cell_type": "code",
      "metadata": {
        "id": "vv4i6C5c8Ego",
        "colab_type": "code",
        "colab": {}
      },
      "source": [
        ""
      ],
      "execution_count": 0,
      "outputs": []
    }
  ]
}